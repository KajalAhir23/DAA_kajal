{
  "cells": [
    {
      "cell_type": "markdown",
      "metadata": {
        "id": "view-in-github",
        "colab_type": "text"
      },
      "source": [
        "<a href=\"https://colab.research.google.com/github/KajalAhir23/DAA_kajal/blob/main/Welcome_To_Colab.ipynb\" target=\"_parent\"><img src=\"https://colab.research.google.com/assets/colab-badge.svg\" alt=\"Open In Colab\"/></a>"
      ]
    },
    {
      "cell_type": "code",
      "source": [
        "while True:\n",
        "    x=int(input(\"1st:\"))\n",
        "    y=int(input(\"2nd:\"))\n",
        "    c=input(\"enter op:\")\n",
        "    if c == \"+\":\n",
        "        print(x+y)\n",
        "    elif c == \"-\":\n",
        "        print(x-y)\n",
        "    elif c == \"*\":\n",
        "        print(x*y)\n",
        "    elif c == \"/\":\n",
        "        print(x/y)\n",
        "    elif c == \"%\":\n",
        "        print(x%y)\n",
        "    else:\n",
        "        print(\"select op\")"
      ],
      "metadata": {
        "id": "Xa0Ra9yBFWmi"
      },
      "execution_count": null,
      "outputs": []
    }
  ],
  "metadata": {
    "colab": {
      "name": "Welcome To Colab",
      "toc_visible": true,
      "provenance": [],
      "include_colab_link": true
    },
    "kernelspec": {
      "display_name": "Python 3",
      "name": "python3"
    }
  },
  "nbformat": 4,
  "nbformat_minor": 0
}