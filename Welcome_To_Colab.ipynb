{
  "cells": [
    {
      "cell_type": "markdown",
      "metadata": {
        "id": "view-in-github",
        "colab_type": "text"
      },
      "source": [
        "<a href=\"https://colab.research.google.com/github/KajalAhir23/DAA_kajal/blob/main/Welcome_To_Colab.ipynb\" target=\"_parent\"><img src=\"https://colab.research.google.com/assets/colab-badge.svg\" alt=\"Open In Colab\"/></a>"
      ]
    },
    {
      "cell_type": "markdown",
      "source": [
        "**Hello world**"
      ],
      "metadata": {
        "id": "HPablY_6Bs3z"
      }
    },
    {
      "cell_type": "code",
      "source": [
        "print(\"Hello World !\")"
      ],
      "metadata": {
        "colab": {
          "base_uri": "https://localhost:8080/"
        },
        "id": "vbMG-ftcB0bt",
        "outputId": "22443c10-ce51-4b1c-b127-52ddbd47c666"
      },
      "execution_count": null,
      "outputs": [
        {
          "output_type": "stream",
          "name": "stdout",
          "text": [
            "Hello World !\n"
          ]
        }
      ]
    },
    {
      "cell_type": "markdown",
      "source": [
        "**Given number is Even or Odd**"
      ],
      "metadata": {
        "id": "Ma57sSaNEjxL"
      }
    },
    {
      "cell_type": "code",
      "source": [
        "n = int(input())\n",
        "if n % 2 == 0:\n",
        "  print(\"Even\")\n",
        "else:\n",
        "  print(\"Odd\")"
      ],
      "metadata": {
        "colab": {
          "base_uri": "https://localhost:8080/"
        },
        "id": "gkHJU0thEvWD",
        "outputId": "6e15317a-6812-4913-8bf9-bbe522bd0be6"
      },
      "execution_count": null,
      "outputs": [
        {
          "output_type": "stream",
          "name": "stdout",
          "text": [
            "5\n",
            "Odd\n"
          ]
        }
      ]
    },
    {
      "cell_type": "markdown",
      "source": [
        "**Calculator**"
      ],
      "metadata": {
        "id": "-GExesPKWeCX"
      }
    },
    {
      "cell_type": "code",
      "source": [
        "n = int(input())\n",
        "m = int(input())\n",
        "char = input()\n",
        "if char == \"+\":\n",
        "  print(n+m)\n",
        "elif char == \"-\":\n",
        "  print(n-m)\n",
        "elif char == \"*\":\n",
        "  print(n*m)\n",
        "elif char == \"/\":\n",
        "  print(n/m)\n",
        "elif char == \"%\":\n",
        "  print(n%m)\n",
        "else:\n",
        "  print(\"invalid char\")"
      ],
      "metadata": {
        "colab": {
          "base_uri": "https://localhost:8080/"
        },
        "id": "CeiugF6GWntd",
        "outputId": "775c8103-f307-4b8f-b4e3-fba608ecf809"
      },
      "execution_count": null,
      "outputs": [
        {
          "output_type": "stream",
          "name": "stdout",
          "text": [
            "2 \n",
            "3\n",
            "\n",
            "invalid char\n"
          ]
        }
      ]
    },
    {
      "cell_type": "markdown",
      "source": [
        "**Area of Circle**"
      ],
      "metadata": {
        "id": "hZfgBKToXv5v"
      }
    },
    {
      "cell_type": "code",
      "source": [
        "PI = 3.14\n",
        "Radius = int(input())\n",
        "Area = PI * Radius * Radius\n",
        "print(Area)"
      ],
      "metadata": {
        "colab": {
          "base_uri": "https://localhost:8080/"
        },
        "id": "CC6mdROLYAte",
        "outputId": "bf061dfa-0153-4112-ab59-5d5e63ce6e5e"
      },
      "execution_count": null,
      "outputs": [
        {
          "output_type": "stream",
          "name": "stdout",
          "text": [
            "4\n",
            "50.24\n"
          ]
        }
      ]
    },
    {
      "cell_type": "markdown",
      "source": [
        "**pattern using print statements**"
      ],
      "metadata": {
        "id": "NOavZ113YekY"
      }
    },
    {
      "cell_type": "code",
      "source": [
        "print(\"*\")\n",
        "print(\"**\")\n",
        "print(\"***\")\n",
        "print(\"****\")\n",
        "print(\"*****\")"
      ],
      "metadata": {
        "id": "xg3CkEYGYs9a",
        "outputId": "49d61851-720e-40f8-f865-742e7c84340c",
        "colab": {
          "base_uri": "https://localhost:8080/"
        }
      },
      "execution_count": null,
      "outputs": [
        {
          "output_type": "stream",
          "name": "stdout",
          "text": [
            "*\n",
            "**\n",
            "***\n",
            "****\n",
            "*****\n"
          ]
        }
      ]
    },
    {
      "cell_type": "markdown",
      "source": [
        "**Factorial**"
      ],
      "metadata": {
        "id": "53BT9ME-_vLr"
      }
    },
    {
      "cell_type": "code",
      "source": [
        "n = int(input())\n",
        "result = 1\n",
        "\n",
        "if n < 0:\n",
        "    print(\"Factorial does not exist for negative numbers.\")\n",
        "elif n == 0:\n",
        "    print(\"The factorial of 0 is 1.\")\n",
        "else:\n",
        "    for i in range(1, n + 1):\n",
        "        result *= i\n",
        "    print(\"The factorial of\", n, \"is\", result)"
      ],
      "metadata": {
        "colab": {
          "base_uri": "https://localhost:8080/"
        },
        "id": "T1_3DLGC_1kr",
        "outputId": "b3635b74-eef0-4258-ed1f-dced131f86f0"
      },
      "execution_count": 1,
      "outputs": [
        {
          "output_type": "stream",
          "name": "stdout",
          "text": [
            "5\n",
            "The factorial of 5 is 120\n"
          ]
        }
      ]
    },
    {
      "cell_type": "markdown",
      "source": [
        "**Right-Angled Triangle of Stars**"
      ],
      "metadata": {
        "id": "84PVOst3ASdu"
      }
    },
    {
      "cell_type": "code",
      "source": [
        "n = int(input())\n",
        "for i in range(1,n+1):\n",
        "  print(\"*\" * i)"
      ],
      "metadata": {
        "id": "gBtbFXdMAWXJ",
        "outputId": "0c03550b-690d-431d-b98c-55fc873e239b",
        "colab": {
          "base_uri": "https://localhost:8080/"
        }
      },
      "execution_count": 2,
      "outputs": [
        {
          "output_type": "stream",
          "name": "stdout",
          "text": [
            "6\n",
            "*\n",
            "**\n",
            "***\n",
            "****\n",
            "*****\n",
            "******\n"
          ]
        }
      ]
    },
    {
      "cell_type": "markdown",
      "source": [
        "**pyramid pattern**"
      ],
      "metadata": {
        "id": "ztrZgwmjAytS"
      }
    },
    {
      "cell_type": "code",
      "source": [
        "rows = int(input())\n",
        "for i in range(rows):\n",
        "    print(\" \" * (rows - i - 1) + \"*\" * (2 * i + 1))"
      ],
      "metadata": {
        "id": "2m0-bwCxA7Fi",
        "outputId": "ec97cf12-d5b1-442d-acb3-9d71280648b9",
        "colab": {
          "base_uri": "https://localhost:8080/"
        }
      },
      "execution_count": 3,
      "outputs": [
        {
          "output_type": "stream",
          "name": "stdout",
          "text": [
            "5\n",
            "    *\n",
            "   ***\n",
            "  *****\n",
            " *******\n",
            "*********\n"
          ]
        }
      ]
    },
    {
      "cell_type": "markdown",
      "source": [
        "**Prime Number**"
      ],
      "metadata": {
        "id": "RNZSufKoBPEz"
      }
    },
    {
      "cell_type": "code",
      "source": [
        "def is_prime(n):\n",
        "    if n <= 1:\n",
        "        return False\n",
        "    for i in range(2, int(n ** 0.5) + 1):\n",
        "        if n % i == 0:\n",
        "            return False\n",
        "    return True\n",
        "\n",
        "number = 29\n",
        "if is_prime(number):\n",
        "    print(f\"{number} is a Prime Number ✅\")\n",
        "else:\n",
        "    print(f\"{number} is Not a Prime Number ❌\")"
      ],
      "metadata": {
        "id": "p_yjgM4YLYKe",
        "outputId": "12e0a251-657e-431b-bdc9-2cd53d8c975b",
        "colab": {
          "base_uri": "https://localhost:8080/"
        }
      },
      "execution_count": null,
      "outputs": [
        {
          "output_type": "stream",
          "name": "stdout",
          "text": [
            "29 is a Prime Number ✅\n"
          ]
        }
      ]
    },
    {
      "cell_type": "markdown",
      "source": [
        "**Greedy Algorithm**"
      ],
      "metadata": {
        "id": "OcmM9pzuNVuC"
      }
    },
    {
      "cell_type": "code",
      "source": [
        "def greedy_coins(value):\n",
        "    coins = [10, 5, 2, 1]\n",
        "    result = []\n",
        "    for coin in coins:\n",
        "        while value >= coin:\n",
        "            value -= coin\n",
        "            result.append(coin)\n",
        "    return result\n",
        "\n",
        "print(greedy_coins(20))"
      ],
      "metadata": {
        "id": "NbwGlQn7Na7q"
      },
      "execution_count": null,
      "outputs": []
    },
    {
      "cell_type": "markdown",
      "source": [
        "**Binary search : Divide and conquer**"
      ],
      "metadata": {
        "id": "XYBaquM5OYMq"
      }
    },
    {
      "cell_type": "code",
      "source": [
        "def binary_search(arr, target):\n",
        "    low = 0\n",
        "    high = len(arr) - 1\n",
        "\n",
        "    while low <= high:\n",
        "        mid = (low + high) // 2\n",
        "        if arr[mid] == target:\n",
        "            return mid\n",
        "        elif arr[mid] < target:\n",
        "            low = mid + 1\n",
        "        else:\n",
        "            high = mid - 1\n",
        "    return -1\n",
        "\n",
        "\n",
        "arr = [2, 4, 6, 8, 10, 12]\n",
        "target = 10\n",
        "print(\"Index of\", target, \"is\", binary_search(arr, target))"
      ],
      "metadata": {
        "id": "Gwwtu5fJOk3i"
      },
      "execution_count": null,
      "outputs": []
    }
  ],
  "metadata": {
    "colab": {
      "name": "Welcome To Colab",
      "toc_visible": true,
      "provenance": [],
      "include_colab_link": true
    },
    "kernelspec": {
      "display_name": "Python 3",
      "name": "python3"
    }
  },
  "nbformat": 4,
  "nbformat_minor": 0
}