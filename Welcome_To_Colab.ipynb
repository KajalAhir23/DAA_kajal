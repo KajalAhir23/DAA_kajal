{
  "cells": [
    {
      "cell_type": "markdown",
      "metadata": {
        "id": "view-in-github",
        "colab_type": "text"
      },
      "source": [
        "<a href=\"https://colab.research.google.com/github/KajalAhir23/DAA_kajal/blob/main/Welcome_To_Colab.ipynb\" target=\"_parent\"><img src=\"https://colab.research.google.com/assets/colab-badge.svg\" alt=\"Open In Colab\"/></a>"
      ]
    },
    {
      "cell_type": "markdown",
      "source": [
        "**Hello world**"
      ],
      "metadata": {
        "id": "HPablY_6Bs3z"
      }
    },
    {
      "cell_type": "code",
      "source": [
        "print(\"Hello World !\")"
      ],
      "metadata": {
        "colab": {
          "base_uri": "https://localhost:8080/"
        },
        "id": "vbMG-ftcB0bt",
        "outputId": "22443c10-ce51-4b1c-b127-52ddbd47c666"
      },
      "execution_count": null,
      "outputs": [
        {
          "output_type": "stream",
          "name": "stdout",
          "text": [
            "Hello World !\n"
          ]
        }
      ]
    },
    {
      "cell_type": "markdown",
      "source": [
        "**Given number is Even or Odd**"
      ],
      "metadata": {
        "id": "Ma57sSaNEjxL"
      }
    },
    {
      "cell_type": "code",
      "source": [
        "n = int(input())\n",
        "if n % 2 == 0:\n",
        "  print(\"Even\")\n",
        "else:\n",
        "  print(\"Odd\")"
      ],
      "metadata": {
        "colab": {
          "base_uri": "https://localhost:8080/"
        },
        "id": "gkHJU0thEvWD",
        "outputId": "6e15317a-6812-4913-8bf9-bbe522bd0be6"
      },
      "execution_count": null,
      "outputs": [
        {
          "output_type": "stream",
          "name": "stdout",
          "text": [
            "5\n",
            "Odd\n"
          ]
        }
      ]
    },
    {
      "cell_type": "markdown",
      "source": [
        "**Calculator**"
      ],
      "metadata": {
        "id": "-GExesPKWeCX"
      }
    },
    {
      "cell_type": "code",
      "source": [
        "n = int(input())\n",
        "m = int(input())\n",
        "char = input()\n",
        "if char == \"+\":\n",
        "  print(n+m)\n",
        "elif char == \"-\":\n",
        "  print(n-m)\n",
        "elif char == \"*\":\n",
        "  print(n*m)\n",
        "elif char == \"/\":\n",
        "  print(n/m)\n",
        "elif char == \"%\":\n",
        "  print(n%m)\n",
        "else:\n",
        "  print(\"invalid char\")"
      ],
      "metadata": {
        "colab": {
          "base_uri": "https://localhost:8080/"
        },
        "id": "CeiugF6GWntd",
        "outputId": "775c8103-f307-4b8f-b4e3-fba608ecf809"
      },
      "execution_count": null,
      "outputs": [
        {
          "output_type": "stream",
          "name": "stdout",
          "text": [
            "2 \n",
            "3\n",
            "\n",
            "invalid char\n"
          ]
        }
      ]
    },
    {
      "cell_type": "markdown",
      "source": [
        "**Calculator Program**"
      ],
      "metadata": {
        "id": "ie-4zB7N8UE9"
      }
    },
    {
      "cell_type": "code",
      "source": [
        "print(eval(input(\"enter:\")))"
      ],
      "metadata": {
        "id": "kk6XTSd58Yqa",
        "outputId": "59b1c812-aa3b-4f31-e596-1dd6b09f7487",
        "colab": {
          "base_uri": "https://localhost:8080/"
        }
      },
      "execution_count": 1,
      "outputs": [
        {
          "output_type": "stream",
          "name": "stdout",
          "text": [
            "enter:35-5\n",
            "30\n"
          ]
        }
      ]
    },
    {
      "cell_type": "markdown",
      "source": [
        "**Area of Circle**"
      ],
      "metadata": {
        "id": "hZfgBKToXv5v"
      }
    },
    {
      "cell_type": "code",
      "source": [
        "PI = 3.14\n",
        "Radius = int(input())\n",
        "Area = PI * Radius * Radius\n",
        "print(Area)"
      ],
      "metadata": {
        "colab": {
          "base_uri": "https://localhost:8080/"
        },
        "id": "CC6mdROLYAte",
        "outputId": "bf061dfa-0153-4112-ab59-5d5e63ce6e5e"
      },
      "execution_count": null,
      "outputs": [
        {
          "output_type": "stream",
          "name": "stdout",
          "text": [
            "4\n",
            "50.24\n"
          ]
        }
      ]
    },
    {
      "cell_type": "markdown",
      "source": [
        "**pattern using print statements**"
      ],
      "metadata": {
        "id": "NOavZ113YekY"
      }
    },
    {
      "cell_type": "code",
      "source": [
        "print(\"*\")\n",
        "print(\"**\")\n",
        "print(\"***\")\n",
        "print(\"****\")\n",
        "print(\"*****\")"
      ],
      "metadata": {
        "id": "xg3CkEYGYs9a",
        "outputId": "49d61851-720e-40f8-f865-742e7c84340c",
        "colab": {
          "base_uri": "https://localhost:8080/"
        }
      },
      "execution_count": null,
      "outputs": [
        {
          "output_type": "stream",
          "name": "stdout",
          "text": [
            "*\n",
            "**\n",
            "***\n",
            "****\n",
            "*****\n"
          ]
        }
      ]
    },
    {
      "cell_type": "markdown",
      "source": [
        "**Factorial**"
      ],
      "metadata": {
        "id": "53BT9ME-_vLr"
      }
    },
    {
      "cell_type": "code",
      "source": [
        "n = int(input())\n",
        "result = 1\n",
        "\n",
        "if n < 0:\n",
        "    print(\"Factorial does not exist for negative numbers.\")\n",
        "elif n == 0:\n",
        "    print(\"The factorial of 0 is 1.\")\n",
        "else:\n",
        "    for i in range(1, n + 1):\n",
        "        result *= i\n",
        "    print(\"The factorial of\", n, \"is\", result)"
      ],
      "metadata": {
        "colab": {
          "base_uri": "https://localhost:8080/"
        },
        "id": "T1_3DLGC_1kr",
        "outputId": "b3635b74-eef0-4258-ed1f-dced131f86f0"
      },
      "execution_count": null,
      "outputs": [
        {
          "output_type": "stream",
          "name": "stdout",
          "text": [
            "5\n",
            "The factorial of 5 is 120\n"
          ]
        }
      ]
    },
    {
      "cell_type": "markdown",
      "source": [
        "**Right-Angled Triangle of Stars**"
      ],
      "metadata": {
        "id": "84PVOst3ASdu"
      }
    },
    {
      "cell_type": "code",
      "source": [
        "n = int(input())\n",
        "for i in range(1,n+1):\n",
        "  print(\"*\" * i)"
      ],
      "metadata": {
        "colab": {
          "base_uri": "https://localhost:8080/"
        },
        "id": "gBtbFXdMAWXJ",
        "outputId": "0c03550b-690d-431d-b98c-55fc873e239b"
      },
      "execution_count": null,
      "outputs": [
        {
          "output_type": "stream",
          "name": "stdout",
          "text": [
            "6\n",
            "*\n",
            "**\n",
            "***\n",
            "****\n",
            "*****\n",
            "******\n"
          ]
        }
      ]
    },
    {
      "cell_type": "markdown",
      "source": [
        "**pyramid pattern**"
      ],
      "metadata": {
        "id": "ztrZgwmjAytS"
      }
    },
    {
      "cell_type": "code",
      "source": [
        "rows = int(input())\n",
        "for i in range(rows):\n",
        "    print(\" \" * (rows - i - 1) + \"*\" * (2 * i + 1))"
      ],
      "metadata": {
        "colab": {
          "base_uri": "https://localhost:8080/"
        },
        "id": "2m0-bwCxA7Fi",
        "outputId": "ec97cf12-d5b1-442d-acb3-9d71280648b9"
      },
      "execution_count": null,
      "outputs": [
        {
          "output_type": "stream",
          "name": "stdout",
          "text": [
            "5\n",
            "    *\n",
            "   ***\n",
            "  *****\n",
            " *******\n",
            "*********\n"
          ]
        }
      ]
    },
    {
      "cell_type": "markdown",
      "source": [
        "**Number pyramid**"
      ],
      "metadata": {
        "id": "xjmVo6V_Bnjq"
      }
    },
    {
      "cell_type": "code",
      "source": [
        "rows = int(input())\n",
        "for i in range(rows):\n",
        "    print(\" \" * (rows - i - 1), end=\"\")\n",
        "    for j in range(1, i + 2):\n",
        "        print(j, end=\" \")\n",
        "    print()"
      ],
      "metadata": {
        "id": "mOm6F7A2Bs1o",
        "outputId": "a923da6a-6a8a-4f08-864f-3609f8ff2a01",
        "colab": {
          "base_uri": "https://localhost:8080/"
        }
      },
      "execution_count": null,
      "outputs": [
        {
          "output_type": "stream",
          "name": "stdout",
          "text": [
            "4\n",
            "   1 \n",
            "  1 2 \n",
            " 1 2 3 \n",
            "1 2 3 4 \n"
          ]
        }
      ]
    },
    {
      "cell_type": "markdown",
      "source": [
        "**Sum of Natural Numbers**"
      ],
      "metadata": {
        "id": "bbth9t70fdm0"
      }
    },
    {
      "cell_type": "code",
      "source": [
        "num = int(input(\"enter positive number:\"))\n",
        "if num>0:\n",
        "  print(\"the sum is :\",(num*(num+1))//2)\n",
        "else:\n",
        "  print(\"enter positive number\")\n"
      ],
      "metadata": {
        "id": "kq9703mEfg6i",
        "outputId": "053b0454-eb0b-4f48-8584-24b7221ca22d",
        "colab": {
          "base_uri": "https://localhost:8080/"
        }
      },
      "execution_count": null,
      "outputs": [
        {
          "output_type": "stream",
          "name": "stdout",
          "text": [
            "enter positive number:5\n",
            "the sum is : 15\n"
          ]
        }
      ]
    },
    {
      "cell_type": "markdown",
      "source": [
        "**Perfect Square Checker**"
      ],
      "metadata": {
        "id": "LoIRLpSCtnor"
      }
    },
    {
      "cell_type": "code",
      "source": [
        "import math\n",
        "n = int(input())\n",
        "root = math.sqrt(n)\n",
        "is_square = root * root == n\n",
        "\n",
        "print(is_square)"
      ],
      "metadata": {
        "colab": {
          "base_uri": "https://localhost:8080/"
        },
        "id": "2NBrMUoPtp_C",
        "outputId": "488daa84-8af0-4fea-cd16-4e388f9ac9d0"
      },
      "execution_count": null,
      "outputs": [
        {
          "output_type": "stream",
          "name": "stdout",
          "text": [
            "25\n",
            "True\n"
          ]
        }
      ]
    },
    {
      "cell_type": "markdown",
      "source": [
        "**Prime Number**"
      ],
      "metadata": {
        "id": "RNZSufKoBPEz"
      }
    },
    {
      "cell_type": "code",
      "source": [
        "def is_prime(n):\n",
        "    if n <= 1:\n",
        "        return False\n",
        "    for i in range(2, int(n ** 0.5) + 1):\n",
        "        if n % i == 0:\n",
        "            return False\n",
        "    return True\n",
        "\n",
        "number = 29\n",
        "if is_prime(number):\n",
        "    print(f\"{number} is a Prime Number ✅\")\n",
        "else:\n",
        "    print(f\"{number} is Not a Prime Number ❌\")"
      ],
      "metadata": {
        "id": "p_yjgM4YLYKe",
        "outputId": "12e0a251-657e-431b-bdc9-2cd53d8c975b",
        "colab": {
          "base_uri": "https://localhost:8080/"
        }
      },
      "execution_count": null,
      "outputs": [
        {
          "output_type": "stream",
          "name": "stdout",
          "text": [
            "29 is a Prime Number ✅\n"
          ]
        }
      ]
    },
    {
      "cell_type": "markdown",
      "source": [
        "**Write a Python program that takes a year as input and checks if it is a leap year.**"
      ],
      "metadata": {
        "id": "IX-BiPrseETq"
      }
    },
    {
      "cell_type": "code",
      "source": [
        "year = int(input(\"enter year:\"))\n",
        "if(year % 4 == 0 and year % 100 != 0)or(year %400 ==0):\n",
        "  print(year,\"is leap year\")\n",
        "else:\n",
        "  print(year,\"is not leap year\")\n"
      ],
      "metadata": {
        "colab": {
          "base_uri": "https://localhost:8080/"
        },
        "id": "GCVLT-MXePsW",
        "outputId": "322bb975-74f2-47d4-a577-aa77caef605c"
      },
      "execution_count": null,
      "outputs": [
        {
          "output_type": "stream",
          "name": "stdout",
          "text": [
            "enter year:1900\n",
            "1900 is not leap year\n"
          ]
        }
      ]
    },
    {
      "cell_type": "markdown",
      "source": [
        "**Greedy Algorithm**"
      ],
      "metadata": {
        "id": "OcmM9pzuNVuC"
      }
    },
    {
      "cell_type": "code",
      "source": [
        "def greedy_coins(value):\n",
        "    coins = [10, 5, 2, 1]\n",
        "    result = []\n",
        "    for coin in coins:\n",
        "        while value >= coin:\n",
        "            value -= coin\n",
        "            result.append(coin)\n",
        "    return result\n",
        "\n",
        "print(greedy_coins(20))"
      ],
      "metadata": {
        "id": "NbwGlQn7Na7q"
      },
      "execution_count": null,
      "outputs": []
    },
    {
      "cell_type": "markdown",
      "source": [
        "**Binary search : Divide and conquer**"
      ],
      "metadata": {
        "id": "XYBaquM5OYMq"
      }
    },
    {
      "cell_type": "code",
      "source": [
        "def binary_search(arr, target):\n",
        "    low = 0\n",
        "    high = len(arr) - 1\n",
        "\n",
        "    while low <= high:\n",
        "        mid = (low + high) // 2\n",
        "        if arr[mid] == target:\n",
        "            return mid\n",
        "        elif arr[mid] < target:\n",
        "            low = mid + 1\n",
        "        else:\n",
        "            high = mid - 1\n",
        "    return -1\n",
        "\n",
        "\n",
        "arr = [2, 4, 6, 8, 10, 12]\n",
        "target = 10\n",
        "print(\"Index of\", target, \"is\", binary_search(arr, target))"
      ],
      "metadata": {
        "id": "Gwwtu5fJOk3i"
      },
      "execution_count": null,
      "outputs": []
    },
    {
      "cell_type": "markdown",
      "source": [
        "**Calculate Total Bill with Discounts and Tax**\n",
        "\n",
        "we're building a billing system for a grocery store. Each item has a price and quantity. Some items may have discounts, and the total bill includes a fixed tax rate. tax rate : 50%."
      ],
      "metadata": {
        "id": "AM9OsIdbvwIE"
      }
    },
    {
      "cell_type": "code",
      "source": [
        "items = [\n",
        "    {\"price\": 40.0, \"quantity\": 2},          # Milk\n",
        "    {\"price\": 30.0, \"quantity\": 1, \"discount\": 10},  # Bread\n",
        "    {\"price\": 15.0, \"quantity\": 12}           # Bananas\n",
        "]\n",
        "\n",
        "total = 0\n",
        "\n",
        "for item in items:\n",
        "    p = item[\"price\"]\n",
        "    q = item[\"quantity\"]\n",
        "    d = item.get(\"discount\", 0)\n",
        "\n",
        "    cost = p * q\n",
        "    cost -= cost * d / 100\n",
        "    total += cost\n",
        "\n",
        "tax = total * 0.05\n",
        "final = total + tax\n",
        "\n",
        "print(\"Total before tax:\", round(total, 2))\n",
        "print(\"Tax:\", round(tax, 2))\n",
        "print(\"Final total:\", round(final, 2))"
      ],
      "metadata": {
        "id": "8ccVuXrzwKPO",
        "outputId": "8312a3ba-e8cb-413e-9240-6910af088291",
        "colab": {
          "base_uri": "https://localhost:8080/"
        }
      },
      "execution_count": null,
      "outputs": [
        {
          "output_type": "stream",
          "name": "stdout",
          "text": [
            "Total before tax: 287.0\n",
            "Tax: 14.35\n",
            "Final total: 301.35\n"
          ]
        }
      ]
    },
    {
      "cell_type": "markdown",
      "source": [
        "**count the number of vovels in a string**"
      ],
      "metadata": {
        "id": "lmk9mFExMU7G"
      }
    },
    {
      "cell_type": "code",
      "source": [
        "txt = input(\"give string:\")\n",
        "vowels = \"aeiouAEIOU\"\n",
        "counter = 0\n",
        "for char in txt:\n",
        "  if char in vowels:\n",
        "    counter += 1\n",
        "print(\"number of vowels :\",counter)\n"
      ],
      "metadata": {
        "id": "tTAG90hvMiCM",
        "outputId": "7bec0bce-4927-49d5-c199-e18bd3a903d6",
        "colab": {
          "base_uri": "https://localhost:8080/"
        }
      },
      "execution_count": null,
      "outputs": [
        {
          "output_type": "stream",
          "name": "stdout",
          "text": [
            "give string:kajal\n",
            "number of vowels : 2\n"
          ]
        }
      ]
    }
  ],
  "metadata": {
    "colab": {
      "name": "Welcome To Colab",
      "toc_visible": true,
      "provenance": [],
      "include_colab_link": true
    },
    "kernelspec": {
      "display_name": "Python 3",
      "name": "python3"
    }
  },
  "nbformat": 4,
  "nbformat_minor": 0
}